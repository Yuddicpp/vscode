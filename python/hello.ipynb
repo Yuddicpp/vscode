{
 "cells": [
  {
   "cell_type": "code",
   "execution_count": 3,
   "source": [
    "import torch \r\n",
    "from torch import nn\r\n",
    "\r\n",
    "print(\"torch version:\", torch.__version__)\r\n",
    "\r\n",
    "a = torch.tensor([[2,1]])\r\n",
    "b = torch.tensor([[-1,2]])\r\n",
    "c = a@b.t()\r\n",
    "print(\"[[2,1]]@[[-1],[2]] =\", c.item())"
   ],
   "outputs": [
    {
     "output_type": "stream",
     "name": "stdout",
     "text": [
      "torch version: 1.8.1\n",
      "[[2,1]]@[[-1],[2]] = 0\n"
     ]
    }
   ],
   "metadata": {}
  }
 ],
 "metadata": {
  "orig_nbformat": 4,
  "language_info": {
   "name": "python",
   "version": "3.8.8",
   "mimetype": "text/x-python",
   "codemirror_mode": {
    "name": "ipython",
    "version": 3
   },
   "pygments_lexer": "ipython3",
   "nbconvert_exporter": "python",
   "file_extension": ".py"
  },
  "kernelspec": {
   "name": "python3",
   "display_name": "Python 3.8.8 64-bit ('base': conda)"
  },
  "interpreter": {
   "hash": "7b4b4feff2f24a0f0a34464dbe537a36fda679851528fb8735cb41fa49dffb2d"
  }
 },
 "nbformat": 4,
 "nbformat_minor": 2
}